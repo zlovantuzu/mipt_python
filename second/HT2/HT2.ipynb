{
 "cells": [
  {
   "cell_type": "code",
   "execution_count": null,
   "metadata": {},
   "outputs": [],
   "source": [
    "import cv2\n",
    "import numpy as np\n",
    "import random\n",
    "import os\n",
    "\n",
    "generated_dir = \"generated_cel\"\n",
    "\n",
    "def generate_random_cells_image(\n",
    "    image_size=(512, 512),\n",
    "    min_cells=10,\n",
    "    max_cells=30,\n",
    "    radius_range=(10, 30)\n",
    "):\n",
    "    h, w = image_size\n",
    "    background = np.full((h, w, 3), (177, 177, 227), dtype=np.uint8)\n",
    "    annotations = []\n",
    "\n",
    "    num_cells = random.randint(min_cells, max_cells)\n",
    "\n",
    "    for _ in range(num_cells):\n",
    "        radius = random.randint(*radius_range)\n",
    "        x_center = random.randint(radius, w - radius)\n",
    "        y_center = random.randint(radius, h - radius)\n",
    "\n",
    "        color = (\n",
    "            random.randint(100, 255),  # R\n",
    "            random.randint(0, 100),    # G\n",
    "            random.randint(0, 100)     # B\n",
    "        )\n",
    "\n",
    "        cv2.circle(background, (x_center, y_center), radius, color, -1)\n",
    "\n",
    "        annotations.append({\n",
    "            \"x_center\": x_center,\n",
    "            \"y_center\": y_center,\n",
    "            \"radius\": radius\n",
    "        })\n",
    "\n",
    "    return background, annotations\n"
   ]
  },
  {
   "cell_type": "code",
   "execution_count": 66,
   "metadata": {},
   "outputs": [],
   "source": [
    "def save_image_and_annotations(image, annotations, output_dir, index):\n",
    "    os.makedirs(output_dir, exist_ok=True)\n",
    "    img_path = os.path.join(output_dir, f\"cell_img_{index}.png\")\n",
    "\n",
    "    cv2.imwrite(img_path, image)\n",
    "\n",
    "\n",
    "for i in range(20):\n",
    "    image, annotations = generate_random_cells_image()\n",
    "    save_image_and_annotations(image, annotations, generated_dir, i)\n"
   ]
  },
  {
   "cell_type": "code",
   "execution_count": 70,
   "metadata": {},
   "outputs": [],
   "source": [
    "def extract_cells_and_background(image_path, output_cells_img_path, output_bg_img_path):\n",
    "    image = cv2.imread(image_path)\n",
    "    original = image.copy()\n",
    "\n",
    "    gray = cv2.cvtColor(image, cv2.COLOR_BGR2GRAY)\n",
    "    blurred = cv2.GaussianBlur(gray, (7, 7), 0)\n",
    "\n",
    "    circles = cv2.HoughCircles(\n",
    "        blurred, \n",
    "        cv2.HOUGH_GRADIENT, dp=1.2, minDist=30,\n",
    "        param1=50, param2=30, minRadius=10, maxRadius=40\n",
    "    )\n",
    "\n",
    "    mask = np.zeros(image.shape[:2], dtype=np.uint8)\n",
    "    cells_only = np.ones_like(image) * 255\n",
    "\n",
    "    if circles is not None:\n",
    "        circles = np.round(circles[0, :]).astype(\"int\")\n",
    "\n",
    "        for (x, y, r) in circles:\n",
    "            cell_mask = np.zeros(image.shape[:2], dtype=np.uint8)\n",
    "            cv2.circle(cell_mask, (x, y), r, 255, -1)\n",
    "\n",
    "            cell = cv2.bitwise_and(original, original, mask=cell_mask)\n",
    "\n",
    "            cells_only[cell_mask == 255] = cell[cell_mask == 255]\n",
    "\n",
    "            cv2.circle(mask, (x, y), r, 255, -1)\n",
    "\n",
    "    background = original.copy()\n",
    "    background[mask == 255] = 255\n",
    "\n",
    "    cv2.imwrite(output_cells_img_path, cells_only)\n",
    "    cv2.imwrite(output_bg_img_path, background)\n",
    "\n",
    "    print(f\"Сохранено: клетки -> {output_cells_img_path}, фон -> {output_bg_img_path}\")\n"
   ]
  },
  {
   "cell_type": "code",
   "execution_count": 74,
   "metadata": {},
   "outputs": [
    {
     "name": "stdout",
     "output_type": "stream",
     "text": [
      "Сохранено: клетки -> cropped_cells/cell_0.png, фон -> backgrounds/bg_0.png\n",
      "Сохранено: клетки -> cropped_cells/cell_1.png, фон -> backgrounds/bg_1.png\n",
      "Сохранено: клетки -> cropped_cells/cell_2.png, фон -> backgrounds/bg_2.png\n",
      "Сохранено: клетки -> cropped_cells/cell_3.png, фон -> backgrounds/bg_3.png\n",
      "Сохранено: клетки -> cropped_cells/cell_4.png, фон -> backgrounds/bg_4.png\n",
      "Сохранено: клетки -> cropped_cells/cell_5.png, фон -> backgrounds/bg_5.png\n",
      "Сохранено: клетки -> cropped_cells/cell_6.png, фон -> backgrounds/bg_6.png\n",
      "Сохранено: клетки -> cropped_cells/cell_7.png, фон -> backgrounds/bg_7.png\n",
      "Сохранено: клетки -> cropped_cells/cell_8.png, фон -> backgrounds/bg_8.png\n",
      "Сохранено: клетки -> cropped_cells/cell_9.png, фон -> backgrounds/bg_9.png\n",
      "Сохранено: клетки -> cropped_cells/cell_10.png, фон -> backgrounds/bg_10.png\n",
      "Сохранено: клетки -> cropped_cells/cell_11.png, фон -> backgrounds/bg_11.png\n",
      "Сохранено: клетки -> cropped_cells/cell_12.png, фон -> backgrounds/bg_12.png\n",
      "Сохранено: клетки -> cropped_cells/cell_13.png, фон -> backgrounds/bg_13.png\n",
      "Сохранено: клетки -> cropped_cells/cell_14.png, фон -> backgrounds/bg_14.png\n",
      "Сохранено: клетки -> cropped_cells/cell_15.png, фон -> backgrounds/bg_15.png\n",
      "Сохранено: клетки -> cropped_cells/cell_16.png, фон -> backgrounds/bg_16.png\n",
      "Сохранено: клетки -> cropped_cells/cell_17.png, фон -> backgrounds/bg_17.png\n",
      "Сохранено: клетки -> cropped_cells/cell_18.png, фон -> backgrounds/bg_18.png\n",
      "Сохранено: клетки -> cropped_cells/cell_19.png, фон -> backgrounds/bg_19.png\n"
     ]
    }
   ],
   "source": [
    "image_files = [f for f in os.listdir(generated_dir) if f.lower().endswith(('.png', '.jpg', '.jpeg'))]\n",
    "i = 0\n",
    "for image_file in image_files:\n",
    "    image_path = os.path.join(generated_dir, image_file)\n",
    "    extract_cells_and_background(\n",
    "        image_path=image_path,\n",
    "        output_cells_img_path=f\"cropped_cells/cell_{i}.png\",\n",
    "        output_bg_img_path=f\"backgrounds/bg_{i}.png\"\n",
    "    )\n",
    "    i+=1"
   ]
  },
  {
   "cell_type": "code",
   "execution_count": null,
   "metadata": {},
   "outputs": [],
   "source": []
  }
 ],
 "metadata": {
  "kernelspec": {
   "display_name": "Python 3",
   "language": "python",
   "name": "python3"
  },
  "language_info": {
   "codemirror_mode": {
    "name": "ipython",
    "version": 3
   },
   "file_extension": ".py",
   "mimetype": "text/x-python",
   "name": "python",
   "nbconvert_exporter": "python",
   "pygments_lexer": "ipython3",
   "version": "3.10.1"
  }
 },
 "nbformat": 4,
 "nbformat_minor": 2
}
